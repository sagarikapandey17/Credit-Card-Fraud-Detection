{
 "cells": [
  {
   "cell_type": "code",
   "execution_count": 1,
   "id": "8d7e180f",
   "metadata": {},
   "outputs": [],
   "source": [
    "import warnings\n",
    "warnings.filterwarnings('ignore')\n",
    "\n",
    "import numpy as np\n",
    "import pandas as pd\n",
    "import matplotlib.pyplot as plt\n",
    "import seaborn as sns"
   ]
  },
  {
   "cell_type": "code",
   "execution_count": 2,
   "id": "d86e25e1",
   "metadata": {},
   "outputs": [],
   "source": [
    "data1=pd.read_csv(r\"/Users/Purvakshi/Downloads/final discrepency data/data1_first_half.csv\")"
   ]
  },
  {
   "cell_type": "code",
   "execution_count": 3,
   "id": "e3c7f547",
   "metadata": {},
   "outputs": [
    {
     "data": {
      "text/html": [
       "<div>\n",
       "<style scoped>\n",
       "    .dataframe tbody tr th:only-of-type {\n",
       "        vertical-align: middle;\n",
       "    }\n",
       "\n",
       "    .dataframe tbody tr th {\n",
       "        vertical-align: top;\n",
       "    }\n",
       "\n",
       "    .dataframe thead th {\n",
       "        text-align: right;\n",
       "    }\n",
       "</style>\n",
       "<table border=\"1\" class=\"dataframe\">\n",
       "  <thead>\n",
       "    <tr style=\"text-align: right;\">\n",
       "      <th></th>\n",
       "      <th>Unnamed: 0</th>\n",
       "      <th>trans_date_trans_time</th>\n",
       "      <th>cc_num</th>\n",
       "      <th>merchant</th>\n",
       "      <th>category</th>\n",
       "      <th>amt</th>\n",
       "      <th>first</th>\n",
       "      <th>last</th>\n",
       "      <th>gender</th>\n",
       "      <th>street</th>\n",
       "      <th>...</th>\n",
       "      <th>long</th>\n",
       "      <th>city_pop</th>\n",
       "      <th>job</th>\n",
       "      <th>dob</th>\n",
       "      <th>trans_num</th>\n",
       "      <th>unix_time</th>\n",
       "      <th>merch_lat</th>\n",
       "      <th>merch_long</th>\n",
       "      <th>is_fraud</th>\n",
       "      <th>Unnamed</th>\n",
       "    </tr>\n",
       "  </thead>\n",
       "  <tbody>\n",
       "    <tr>\n",
       "      <th>0</th>\n",
       "      <td>0.0</td>\n",
       "      <td>2019-01-01 00:00:18</td>\n",
       "      <td>2.703186e+15</td>\n",
       "      <td>fraud_Rippin, Kub and Mann</td>\n",
       "      <td>misc_net</td>\n",
       "      <td>4.97 usd</td>\n",
       "      <td>Jennifer</td>\n",
       "      <td>Banks</td>\n",
       "      <td>F</td>\n",
       "      <td>561 Perry Cove</td>\n",
       "      <td>...</td>\n",
       "      <td>-81.1781</td>\n",
       "      <td>3495</td>\n",
       "      <td>Psychologist, counselling</td>\n",
       "      <td>1988-03-09</td>\n",
       "      <td>0b242abb623afc578575680df30655b9</td>\n",
       "      <td>1.325376e+09</td>\n",
       "      <td>36.011293</td>\n",
       "      <td>-82.048315</td>\n",
       "      <td>0</td>\n",
       "      <td>NaN</td>\n",
       "    </tr>\n",
       "    <tr>\n",
       "      <th>1</th>\n",
       "      <td>1.0</td>\n",
       "      <td>2019-01-01 00:00:44</td>\n",
       "      <td>6.304233e+11</td>\n",
       "      <td>fraud_Heller, Gutmann and Zieme</td>\n",
       "      <td>grocery_pos</td>\n",
       "      <td>107.23 usd</td>\n",
       "      <td>Stephanie</td>\n",
       "      <td>Gill</td>\n",
       "      <td>F</td>\n",
       "      <td>43039 Riley Greens Suite 393</td>\n",
       "      <td>...</td>\n",
       "      <td>-118.2105</td>\n",
       "      <td>149</td>\n",
       "      <td>Special educational needs teacher</td>\n",
       "      <td>1978-06-21</td>\n",
       "      <td>1f76529f8574734946361c461b024d99</td>\n",
       "      <td>1.325376e+09</td>\n",
       "      <td>49.159047</td>\n",
       "      <td>-118.186462</td>\n",
       "      <td>0</td>\n",
       "      <td>NaN</td>\n",
       "    </tr>\n",
       "    <tr>\n",
       "      <th>2</th>\n",
       "      <td>2.0</td>\n",
       "      <td>2019-01-01 00:00:51</td>\n",
       "      <td>3.885949e+13</td>\n",
       "      <td>fraud_Lind-Buckridge</td>\n",
       "      <td>entertainment</td>\n",
       "      <td>220.11 usd</td>\n",
       "      <td>Edward</td>\n",
       "      <td>Sanchez</td>\n",
       "      <td>M</td>\n",
       "      <td>594 White Dale Suite 530</td>\n",
       "      <td>...</td>\n",
       "      <td>-112.2620</td>\n",
       "      <td>4154</td>\n",
       "      <td>Nature conservation officer</td>\n",
       "      <td>1962-01-19</td>\n",
       "      <td>a1a22d70485983eac12b5b88dad1cf95</td>\n",
       "      <td>1.325376e+09</td>\n",
       "      <td>43.150704</td>\n",
       "      <td>-112.154481</td>\n",
       "      <td>0</td>\n",
       "      <td>NaN</td>\n",
       "    </tr>\n",
       "    <tr>\n",
       "      <th>3</th>\n",
       "      <td>3.0</td>\n",
       "      <td>2019-01-01 00:01:16</td>\n",
       "      <td>3.534094e+15</td>\n",
       "      <td>fraud_Kutch, Hermiston and Farrell</td>\n",
       "      <td>gas_transport</td>\n",
       "      <td>45.0 usd</td>\n",
       "      <td>Jeremy</td>\n",
       "      <td>White</td>\n",
       "      <td>M</td>\n",
       "      <td>9443 Cynthia Court Apt. 038</td>\n",
       "      <td>...</td>\n",
       "      <td>-112.1138</td>\n",
       "      <td>1939</td>\n",
       "      <td>Patent attorney</td>\n",
       "      <td>1967-01-12</td>\n",
       "      <td>6b849c168bdad6f867558c3793159a81</td>\n",
       "      <td>1.325376e+09</td>\n",
       "      <td>47.034331</td>\n",
       "      <td>-112.561071</td>\n",
       "      <td>0</td>\n",
       "      <td>NaN</td>\n",
       "    </tr>\n",
       "    <tr>\n",
       "      <th>4</th>\n",
       "      <td>4.0</td>\n",
       "      <td>2019-01-01 00:03:06</td>\n",
       "      <td>3.755342e+14</td>\n",
       "      <td>fraud_Keeling-Crist</td>\n",
       "      <td>misc_pos</td>\n",
       "      <td>41.96 usd</td>\n",
       "      <td>Tyler</td>\n",
       "      <td>Garcia</td>\n",
       "      <td>M</td>\n",
       "      <td>408 Bradley Rest</td>\n",
       "      <td>...</td>\n",
       "      <td>-79.4629</td>\n",
       "      <td>99</td>\n",
       "      <td>Dance movement psychotherapist</td>\n",
       "      <td>1986-03-28</td>\n",
       "      <td>a41d7549acf90789359a9aa5346dcb46</td>\n",
       "      <td>1.325376e+09</td>\n",
       "      <td>38.674999</td>\n",
       "      <td>-78.632459</td>\n",
       "      <td>0</td>\n",
       "      <td>NaN</td>\n",
       "    </tr>\n",
       "  </tbody>\n",
       "</table>\n",
       "<p>5 rows × 24 columns</p>\n",
       "</div>"
      ],
      "text/plain": [
       "   Unnamed: 0 trans_date_trans_time        cc_num  \\\n",
       "0         0.0   2019-01-01 00:00:18  2.703186e+15   \n",
       "1         1.0   2019-01-01 00:00:44  6.304233e+11   \n",
       "2         2.0   2019-01-01 00:00:51  3.885949e+13   \n",
       "3         3.0   2019-01-01 00:01:16  3.534094e+15   \n",
       "4         4.0   2019-01-01 00:03:06  3.755342e+14   \n",
       "\n",
       "                             merchant       category         amt      first  \\\n",
       "0          fraud_Rippin, Kub and Mann       misc_net    4.97 usd   Jennifer   \n",
       "1     fraud_Heller, Gutmann and Zieme    grocery_pos  107.23 usd  Stephanie   \n",
       "2                fraud_Lind-Buckridge  entertainment  220.11 usd     Edward   \n",
       "3  fraud_Kutch, Hermiston and Farrell  gas_transport    45.0 usd     Jeremy   \n",
       "4                 fraud_Keeling-Crist       misc_pos   41.96 usd      Tyler   \n",
       "\n",
       "      last gender                        street  ...      long city_pop  \\\n",
       "0    Banks      F                561 Perry Cove  ...  -81.1781     3495   \n",
       "1     Gill      F  43039 Riley Greens Suite 393  ... -118.2105      149   \n",
       "2  Sanchez      M      594 White Dale Suite 530  ... -112.2620     4154   \n",
       "3    White      M   9443 Cynthia Court Apt. 038  ... -112.1138     1939   \n",
       "4   Garcia      M              408 Bradley Rest  ...  -79.4629       99   \n",
       "\n",
       "                                 job         dob  \\\n",
       "0          Psychologist, counselling  1988-03-09   \n",
       "1  Special educational needs teacher  1978-06-21   \n",
       "2        Nature conservation officer  1962-01-19   \n",
       "3                    Patent attorney  1967-01-12   \n",
       "4     Dance movement psychotherapist  1986-03-28   \n",
       "\n",
       "                          trans_num     unix_time  merch_lat  merch_long  \\\n",
       "0  0b242abb623afc578575680df30655b9  1.325376e+09  36.011293  -82.048315   \n",
       "1  1f76529f8574734946361c461b024d99  1.325376e+09  49.159047 -118.186462   \n",
       "2  a1a22d70485983eac12b5b88dad1cf95  1.325376e+09  43.150704 -112.154481   \n",
       "3  6b849c168bdad6f867558c3793159a81  1.325376e+09  47.034331 -112.561071   \n",
       "4  a41d7549acf90789359a9aa5346dcb46  1.325376e+09  38.674999  -78.632459   \n",
       "\n",
       "  is_fraud  Unnamed  \n",
       "0        0      NaN  \n",
       "1        0      NaN  \n",
       "2        0      NaN  \n",
       "3        0      NaN  \n",
       "4        0      NaN  \n",
       "\n",
       "[5 rows x 24 columns]"
      ]
     },
     "execution_count": 3,
     "metadata": {},
     "output_type": "execute_result"
    }
   ],
   "source": [
    "data1.head()"
   ]
  },
  {
   "cell_type": "code",
   "execution_count": 4,
   "id": "02fff50a",
   "metadata": {},
   "outputs": [
    {
     "data": {
      "text/plain": [
       "(938951, 24)"
      ]
     },
     "execution_count": 4,
     "metadata": {},
     "output_type": "execute_result"
    }
   ],
   "source": [
    "data1.shape"
   ]
  },
  {
   "cell_type": "code",
   "execution_count": 5,
   "id": "21156de0",
   "metadata": {},
   "outputs": [],
   "source": [
    "data2=pd.read_csv(r\"/Users/Purvakshi/Downloads/final discrepency data/data2_second_half.csv\")"
   ]
  },
  {
   "cell_type": "code",
   "execution_count": 6,
   "id": "bf14e30c",
   "metadata": {},
   "outputs": [
    {
     "data": {
      "text/html": [
       "<div>\n",
       "<style scoped>\n",
       "    .dataframe tbody tr th:only-of-type {\n",
       "        vertical-align: middle;\n",
       "    }\n",
       "\n",
       "    .dataframe tbody tr th {\n",
       "        vertical-align: top;\n",
       "    }\n",
       "\n",
       "    .dataframe thead th {\n",
       "        text-align: right;\n",
       "    }\n",
       "</style>\n",
       "<table border=\"1\" class=\"dataframe\">\n",
       "  <thead>\n",
       "    <tr style=\"text-align: right;\">\n",
       "      <th></th>\n",
       "      <th>Unnamed: 0</th>\n",
       "      <th>trans_date_trans_time</th>\n",
       "      <th>cc_num</th>\n",
       "      <th>merchant</th>\n",
       "      <th>category</th>\n",
       "      <th>amt</th>\n",
       "      <th>first</th>\n",
       "      <th>last</th>\n",
       "      <th>gender</th>\n",
       "      <th>street</th>\n",
       "      <th>...</th>\n",
       "      <th>long</th>\n",
       "      <th>city_pop</th>\n",
       "      <th>job</th>\n",
       "      <th>dob</th>\n",
       "      <th>trans_num</th>\n",
       "      <th>unix_time</th>\n",
       "      <th>merch_lat</th>\n",
       "      <th>merch_long</th>\n",
       "      <th>is_fraud</th>\n",
       "      <th>Unnamed</th>\n",
       "    </tr>\n",
       "  </thead>\n",
       "  <tbody>\n",
       "    <tr>\n",
       "      <th>0</th>\n",
       "      <td>938951.0</td>\n",
       "      <td>2020-01-09 15:37:59</td>\n",
       "      <td>4.319584e+18</td>\n",
       "      <td>fraud_Wilkinson PLC</td>\n",
       "      <td>kids_pets</td>\n",
       "      <td>74.86 usd</td>\n",
       "      <td>Kathleen</td>\n",
       "      <td>Nash</td>\n",
       "      <td>F</td>\n",
       "      <td>010 Salazar Walk</td>\n",
       "      <td>...</td>\n",
       "      <td>-82.6950</td>\n",
       "      <td>502</td>\n",
       "      <td>Chief Financial Officer</td>\n",
       "      <td>1960-02-01</td>\n",
       "      <td>7655034f6350b2ea75981520b701f001</td>\n",
       "      <td>1.357746e+09</td>\n",
       "      <td>37.556843</td>\n",
       "      <td>-83.413424</td>\n",
       "      <td>0</td>\n",
       "      <td>NaN</td>\n",
       "    </tr>\n",
       "    <tr>\n",
       "      <th>1</th>\n",
       "      <td>938952.0</td>\n",
       "      <td>2020-01-09 15:38:24</td>\n",
       "      <td>3.589290e+15</td>\n",
       "      <td>fraud_Heathcote LLC</td>\n",
       "      <td>shopping_net</td>\n",
       "      <td>6.06 usd</td>\n",
       "      <td>Paula</td>\n",
       "      <td>Estrada</td>\n",
       "      <td>F</td>\n",
       "      <td>350 Stacy Glens</td>\n",
       "      <td>...</td>\n",
       "      <td>-97.5936</td>\n",
       "      <td>343</td>\n",
       "      <td>Development worker, international aid</td>\n",
       "      <td>1972-03-05</td>\n",
       "      <td>b2e5b33408d9700738a965cefd6e4ac8</td>\n",
       "      <td>1.357746e+09</td>\n",
       "      <td>44.544978</td>\n",
       "      <td>-98.178739</td>\n",
       "      <td>0</td>\n",
       "      <td>NaN</td>\n",
       "    </tr>\n",
       "    <tr>\n",
       "      <th>2</th>\n",
       "      <td>938953.0</td>\n",
       "      <td>2020-01-09 15:40:32</td>\n",
       "      <td>4.089096e+18</td>\n",
       "      <td>fraud_Effertz, Welch and Schowalter</td>\n",
       "      <td>entertainment</td>\n",
       "      <td>13.83 usd</td>\n",
       "      <td>Debra</td>\n",
       "      <td>Stark</td>\n",
       "      <td>F</td>\n",
       "      <td>686 Linda Rest</td>\n",
       "      <td>...</td>\n",
       "      <td>-94.8653</td>\n",
       "      <td>24536</td>\n",
       "      <td>Multimedia programmer</td>\n",
       "      <td>1983-10-14</td>\n",
       "      <td>94a92c635fca0261872840ff490d4a3d</td>\n",
       "      <td>1.357746e+09</td>\n",
       "      <td>31.553983</td>\n",
       "      <td>-94.161346</td>\n",
       "      <td>0</td>\n",
       "      <td>NaN</td>\n",
       "    </tr>\n",
       "    <tr>\n",
       "      <th>3</th>\n",
       "      <td>938954.0</td>\n",
       "      <td>2020-01-09 15:41:03</td>\n",
       "      <td>3.648589e+13</td>\n",
       "      <td>fraud_Reichert, Huels and Hoppe</td>\n",
       "      <td>shopping_net</td>\n",
       "      <td>13.71 usd</td>\n",
       "      <td>Michael</td>\n",
       "      <td>Gross</td>\n",
       "      <td>M</td>\n",
       "      <td>230 Ryan Tunnel Apt. 025</td>\n",
       "      <td>...</td>\n",
       "      <td>-82.8342</td>\n",
       "      <td>267</td>\n",
       "      <td>Facilities manager</td>\n",
       "      <td>2005-01-29</td>\n",
       "      <td>f7712d5aad839db2d65b0a7f6fb94245</td>\n",
       "      <td>1.357746e+09</td>\n",
       "      <td>40.757241</td>\n",
       "      <td>-82.952651</td>\n",
       "      <td>0</td>\n",
       "      <td>NaN</td>\n",
       "    </tr>\n",
       "    <tr>\n",
       "      <th>4</th>\n",
       "      <td>938955.0</td>\n",
       "      <td>2020-01-09 15:43:08</td>\n",
       "      <td>4.364011e+15</td>\n",
       "      <td>fraud_Parker-Kunde</td>\n",
       "      <td>personal_care</td>\n",
       "      <td>14.34 usd</td>\n",
       "      <td>Gary</td>\n",
       "      <td>Martinez</td>\n",
       "      <td>M</td>\n",
       "      <td>03512 Jackson Ports</td>\n",
       "      <td>...</td>\n",
       "      <td>-119.7957</td>\n",
       "      <td>276896</td>\n",
       "      <td>Immunologist</td>\n",
       "      <td>1997-03-12</td>\n",
       "      <td>f266697602078725d66776062f17a1ee</td>\n",
       "      <td>1.357746e+09</td>\n",
       "      <td>38.855662</td>\n",
       "      <td>-119.755674</td>\n",
       "      <td>0</td>\n",
       "      <td>NaN</td>\n",
       "    </tr>\n",
       "  </tbody>\n",
       "</table>\n",
       "<p>5 rows × 24 columns</p>\n",
       "</div>"
      ],
      "text/plain": [
       "   Unnamed: 0 trans_date_trans_time        cc_num  \\\n",
       "0    938951.0   2020-01-09 15:37:59  4.319584e+18   \n",
       "1    938952.0   2020-01-09 15:38:24  3.589290e+15   \n",
       "2    938953.0   2020-01-09 15:40:32  4.089096e+18   \n",
       "3    938954.0   2020-01-09 15:41:03  3.648589e+13   \n",
       "4    938955.0   2020-01-09 15:43:08  4.364011e+15   \n",
       "\n",
       "                              merchant       category        amt     first  \\\n",
       "0                  fraud_Wilkinson PLC      kids_pets  74.86 usd  Kathleen   \n",
       "1                  fraud_Heathcote LLC   shopping_net   6.06 usd     Paula   \n",
       "2  fraud_Effertz, Welch and Schowalter  entertainment  13.83 usd     Debra   \n",
       "3      fraud_Reichert, Huels and Hoppe   shopping_net  13.71 usd   Michael   \n",
       "4                   fraud_Parker-Kunde  personal_care  14.34 usd      Gary   \n",
       "\n",
       "       last gender                    street  ...      long city_pop  \\\n",
       "0      Nash      F          010 Salazar Walk  ...  -82.6950      502   \n",
       "1   Estrada      F           350 Stacy Glens  ...  -97.5936      343   \n",
       "2     Stark      F            686 Linda Rest  ...  -94.8653    24536   \n",
       "3     Gross      M  230 Ryan Tunnel Apt. 025  ...  -82.8342      267   \n",
       "4  Martinez      M       03512 Jackson Ports  ... -119.7957   276896   \n",
       "\n",
       "                                     job         dob  \\\n",
       "0                Chief Financial Officer  1960-02-01   \n",
       "1  Development worker, international aid  1972-03-05   \n",
       "2                  Multimedia programmer  1983-10-14   \n",
       "3                     Facilities manager  2005-01-29   \n",
       "4                           Immunologist  1997-03-12   \n",
       "\n",
       "                          trans_num     unix_time  merch_lat  merch_long  \\\n",
       "0  7655034f6350b2ea75981520b701f001  1.357746e+09  37.556843  -83.413424   \n",
       "1  b2e5b33408d9700738a965cefd6e4ac8  1.357746e+09  44.544978  -98.178739   \n",
       "2  94a92c635fca0261872840ff490d4a3d  1.357746e+09  31.553983  -94.161346   \n",
       "3  f7712d5aad839db2d65b0a7f6fb94245  1.357746e+09  40.757241  -82.952651   \n",
       "4  f266697602078725d66776062f17a1ee  1.357746e+09  38.855662 -119.755674   \n",
       "\n",
       "  is_fraud  Unnamed  \n",
       "0        0      NaN  \n",
       "1        0      NaN  \n",
       "2        0      NaN  \n",
       "3        0      NaN  \n",
       "4        0      NaN  \n",
       "\n",
       "[5 rows x 24 columns]"
      ]
     },
     "execution_count": 6,
     "metadata": {},
     "output_type": "execute_result"
    }
   ],
   "source": [
    "data2.head()"
   ]
  },
  {
   "cell_type": "code",
   "execution_count": 7,
   "id": "6a3a5465",
   "metadata": {},
   "outputs": [
    {
     "data": {
      "text/plain": [
       "(938951, 24)"
      ]
     },
     "execution_count": 7,
     "metadata": {},
     "output_type": "execute_result"
    }
   ],
   "source": [
    "data2.shape"
   ]
  },
  {
   "cell_type": "code",
   "execution_count": 8,
   "id": "993e89e8",
   "metadata": {},
   "outputs": [],
   "source": [
    "data=pd.concat([data1, data2], axis=0)"
   ]
  },
  {
   "cell_type": "code",
   "execution_count": 9,
   "id": "a8b8cb46",
   "metadata": {},
   "outputs": [
    {
     "data": {
      "text/html": [
       "<div>\n",
       "<style scoped>\n",
       "    .dataframe tbody tr th:only-of-type {\n",
       "        vertical-align: middle;\n",
       "    }\n",
       "\n",
       "    .dataframe tbody tr th {\n",
       "        vertical-align: top;\n",
       "    }\n",
       "\n",
       "    .dataframe thead th {\n",
       "        text-align: right;\n",
       "    }\n",
       "</style>\n",
       "<table border=\"1\" class=\"dataframe\">\n",
       "  <thead>\n",
       "    <tr style=\"text-align: right;\">\n",
       "      <th></th>\n",
       "      <th>Unnamed: 0</th>\n",
       "      <th>trans_date_trans_time</th>\n",
       "      <th>cc_num</th>\n",
       "      <th>merchant</th>\n",
       "      <th>category</th>\n",
       "      <th>amt</th>\n",
       "      <th>first</th>\n",
       "      <th>last</th>\n",
       "      <th>gender</th>\n",
       "      <th>street</th>\n",
       "      <th>...</th>\n",
       "      <th>long</th>\n",
       "      <th>city_pop</th>\n",
       "      <th>job</th>\n",
       "      <th>dob</th>\n",
       "      <th>trans_num</th>\n",
       "      <th>unix_time</th>\n",
       "      <th>merch_lat</th>\n",
       "      <th>merch_long</th>\n",
       "      <th>is_fraud</th>\n",
       "      <th>Unnamed</th>\n",
       "    </tr>\n",
       "  </thead>\n",
       "  <tbody>\n",
       "    <tr>\n",
       "      <th>0</th>\n",
       "      <td>0.0</td>\n",
       "      <td>2019-01-01 00:00:18</td>\n",
       "      <td>2.703186e+15</td>\n",
       "      <td>fraud_Rippin, Kub and Mann</td>\n",
       "      <td>misc_net</td>\n",
       "      <td>4.97 usd</td>\n",
       "      <td>Jennifer</td>\n",
       "      <td>Banks</td>\n",
       "      <td>F</td>\n",
       "      <td>561 Perry Cove</td>\n",
       "      <td>...</td>\n",
       "      <td>-81.1781</td>\n",
       "      <td>3495</td>\n",
       "      <td>Psychologist, counselling</td>\n",
       "      <td>1988-03-09</td>\n",
       "      <td>0b242abb623afc578575680df30655b9</td>\n",
       "      <td>1.325376e+09</td>\n",
       "      <td>36.011293</td>\n",
       "      <td>-82.048315</td>\n",
       "      <td>0</td>\n",
       "      <td>NaN</td>\n",
       "    </tr>\n",
       "    <tr>\n",
       "      <th>1</th>\n",
       "      <td>1.0</td>\n",
       "      <td>2019-01-01 00:00:44</td>\n",
       "      <td>6.304233e+11</td>\n",
       "      <td>fraud_Heller, Gutmann and Zieme</td>\n",
       "      <td>grocery_pos</td>\n",
       "      <td>107.23 usd</td>\n",
       "      <td>Stephanie</td>\n",
       "      <td>Gill</td>\n",
       "      <td>F</td>\n",
       "      <td>43039 Riley Greens Suite 393</td>\n",
       "      <td>...</td>\n",
       "      <td>-118.2105</td>\n",
       "      <td>149</td>\n",
       "      <td>Special educational needs teacher</td>\n",
       "      <td>1978-06-21</td>\n",
       "      <td>1f76529f8574734946361c461b024d99</td>\n",
       "      <td>1.325376e+09</td>\n",
       "      <td>49.159047</td>\n",
       "      <td>-118.186462</td>\n",
       "      <td>0</td>\n",
       "      <td>NaN</td>\n",
       "    </tr>\n",
       "    <tr>\n",
       "      <th>2</th>\n",
       "      <td>2.0</td>\n",
       "      <td>2019-01-01 00:00:51</td>\n",
       "      <td>3.885949e+13</td>\n",
       "      <td>fraud_Lind-Buckridge</td>\n",
       "      <td>entertainment</td>\n",
       "      <td>220.11 usd</td>\n",
       "      <td>Edward</td>\n",
       "      <td>Sanchez</td>\n",
       "      <td>M</td>\n",
       "      <td>594 White Dale Suite 530</td>\n",
       "      <td>...</td>\n",
       "      <td>-112.2620</td>\n",
       "      <td>4154</td>\n",
       "      <td>Nature conservation officer</td>\n",
       "      <td>1962-01-19</td>\n",
       "      <td>a1a22d70485983eac12b5b88dad1cf95</td>\n",
       "      <td>1.325376e+09</td>\n",
       "      <td>43.150704</td>\n",
       "      <td>-112.154481</td>\n",
       "      <td>0</td>\n",
       "      <td>NaN</td>\n",
       "    </tr>\n",
       "    <tr>\n",
       "      <th>3</th>\n",
       "      <td>3.0</td>\n",
       "      <td>2019-01-01 00:01:16</td>\n",
       "      <td>3.534094e+15</td>\n",
       "      <td>fraud_Kutch, Hermiston and Farrell</td>\n",
       "      <td>gas_transport</td>\n",
       "      <td>45.0 usd</td>\n",
       "      <td>Jeremy</td>\n",
       "      <td>White</td>\n",
       "      <td>M</td>\n",
       "      <td>9443 Cynthia Court Apt. 038</td>\n",
       "      <td>...</td>\n",
       "      <td>-112.1138</td>\n",
       "      <td>1939</td>\n",
       "      <td>Patent attorney</td>\n",
       "      <td>1967-01-12</td>\n",
       "      <td>6b849c168bdad6f867558c3793159a81</td>\n",
       "      <td>1.325376e+09</td>\n",
       "      <td>47.034331</td>\n",
       "      <td>-112.561071</td>\n",
       "      <td>0</td>\n",
       "      <td>NaN</td>\n",
       "    </tr>\n",
       "    <tr>\n",
       "      <th>4</th>\n",
       "      <td>4.0</td>\n",
       "      <td>2019-01-01 00:03:06</td>\n",
       "      <td>3.755342e+14</td>\n",
       "      <td>fraud_Keeling-Crist</td>\n",
       "      <td>misc_pos</td>\n",
       "      <td>41.96 usd</td>\n",
       "      <td>Tyler</td>\n",
       "      <td>Garcia</td>\n",
       "      <td>M</td>\n",
       "      <td>408 Bradley Rest</td>\n",
       "      <td>...</td>\n",
       "      <td>-79.4629</td>\n",
       "      <td>99</td>\n",
       "      <td>Dance movement psychotherapist</td>\n",
       "      <td>1986-03-28</td>\n",
       "      <td>a41d7549acf90789359a9aa5346dcb46</td>\n",
       "      <td>1.325376e+09</td>\n",
       "      <td>38.674999</td>\n",
       "      <td>-78.632459</td>\n",
       "      <td>0</td>\n",
       "      <td>NaN</td>\n",
       "    </tr>\n",
       "  </tbody>\n",
       "</table>\n",
       "<p>5 rows × 24 columns</p>\n",
       "</div>"
      ],
      "text/plain": [
       "   Unnamed: 0 trans_date_trans_time        cc_num  \\\n",
       "0         0.0   2019-01-01 00:00:18  2.703186e+15   \n",
       "1         1.0   2019-01-01 00:00:44  6.304233e+11   \n",
       "2         2.0   2019-01-01 00:00:51  3.885949e+13   \n",
       "3         3.0   2019-01-01 00:01:16  3.534094e+15   \n",
       "4         4.0   2019-01-01 00:03:06  3.755342e+14   \n",
       "\n",
       "                             merchant       category         amt      first  \\\n",
       "0          fraud_Rippin, Kub and Mann       misc_net    4.97 usd   Jennifer   \n",
       "1     fraud_Heller, Gutmann and Zieme    grocery_pos  107.23 usd  Stephanie   \n",
       "2                fraud_Lind-Buckridge  entertainment  220.11 usd     Edward   \n",
       "3  fraud_Kutch, Hermiston and Farrell  gas_transport    45.0 usd     Jeremy   \n",
       "4                 fraud_Keeling-Crist       misc_pos   41.96 usd      Tyler   \n",
       "\n",
       "      last gender                        street  ...      long city_pop  \\\n",
       "0    Banks      F                561 Perry Cove  ...  -81.1781     3495   \n",
       "1     Gill      F  43039 Riley Greens Suite 393  ... -118.2105      149   \n",
       "2  Sanchez      M      594 White Dale Suite 530  ... -112.2620     4154   \n",
       "3    White      M   9443 Cynthia Court Apt. 038  ... -112.1138     1939   \n",
       "4   Garcia      M              408 Bradley Rest  ...  -79.4629       99   \n",
       "\n",
       "                                 job         dob  \\\n",
       "0          Psychologist, counselling  1988-03-09   \n",
       "1  Special educational needs teacher  1978-06-21   \n",
       "2        Nature conservation officer  1962-01-19   \n",
       "3                    Patent attorney  1967-01-12   \n",
       "4     Dance movement psychotherapist  1986-03-28   \n",
       "\n",
       "                          trans_num     unix_time  merch_lat  merch_long  \\\n",
       "0  0b242abb623afc578575680df30655b9  1.325376e+09  36.011293  -82.048315   \n",
       "1  1f76529f8574734946361c461b024d99  1.325376e+09  49.159047 -118.186462   \n",
       "2  a1a22d70485983eac12b5b88dad1cf95  1.325376e+09  43.150704 -112.154481   \n",
       "3  6b849c168bdad6f867558c3793159a81  1.325376e+09  47.034331 -112.561071   \n",
       "4  a41d7549acf90789359a9aa5346dcb46  1.325376e+09  38.674999  -78.632459   \n",
       "\n",
       "  is_fraud  Unnamed  \n",
       "0        0      NaN  \n",
       "1        0      NaN  \n",
       "2        0      NaN  \n",
       "3        0      NaN  \n",
       "4        0      NaN  \n",
       "\n",
       "[5 rows x 24 columns]"
      ]
     },
     "execution_count": 9,
     "metadata": {},
     "output_type": "execute_result"
    }
   ],
   "source": [
    "data.head()"
   ]
  },
  {
   "cell_type": "code",
   "execution_count": 10,
   "id": "a78e66ce",
   "metadata": {},
   "outputs": [
    {
     "data": {
      "text/plain": [
       "(1877902, 24)"
      ]
     },
     "execution_count": 10,
     "metadata": {},
     "output_type": "execute_result"
    }
   ],
   "source": [
    "data.shape"
   ]
  },
  {
   "cell_type": "code",
   "execution_count": 11,
   "id": "4e3043ed",
   "metadata": {},
   "outputs": [
    {
     "name": "stdout",
     "output_type": "stream",
     "text": [
      "<class 'pandas.core.frame.DataFrame'>\n",
      "Index: 1877902 entries, 0 to 938950\n",
      "Data columns (total 24 columns):\n",
      " #   Column                 Dtype  \n",
      "---  ------                 -----  \n",
      " 0   Unnamed: 0             float64\n",
      " 1   trans_date_trans_time  object \n",
      " 2   cc_num                 float64\n",
      " 3   merchant               object \n",
      " 4   category               object \n",
      " 5   amt                    object \n",
      " 6   first                  object \n",
      " 7   last                   object \n",
      " 8   gender                 object \n",
      " 9   street                 object \n",
      " 10  city                   object \n",
      " 11  state                  object \n",
      " 12  zip                    int64  \n",
      " 13  lat                    float64\n",
      " 14  long                   float64\n",
      " 15  city_pop               int64  \n",
      " 16  job                    object \n",
      " 17  dob                    object \n",
      " 18  trans_num              object \n",
      " 19  unix_time              float64\n",
      " 20  merch_lat              float64\n",
      " 21  merch_long             float64\n",
      " 22  is_fraud               int64  \n",
      " 23  Unnamed                float64\n",
      "dtypes: float64(8), int64(3), object(13)\n",
      "memory usage: 358.2+ MB\n"
     ]
    }
   ],
   "source": [
    "data.info()"
   ]
  },
  {
   "cell_type": "code",
   "execution_count": 12,
   "id": "d9417cd3",
   "metadata": {},
   "outputs": [
    {
     "data": {
      "text/plain": [
       "Unnamed: 0                 25508\n",
       "trans_date_trans_time          0\n",
       "cc_num                       734\n",
       "merchant                       0\n",
       "category                   14311\n",
       "amt                        16416\n",
       "first                          0\n",
       "last                           0\n",
       "gender                         0\n",
       "street                         0\n",
       "city                           0\n",
       "state                          0\n",
       "zip                            0\n",
       "lat                            0\n",
       "long                           0\n",
       "city_pop                       0\n",
       "job                            0\n",
       "dob                            0\n",
       "trans_num                      0\n",
       "unix_time                   5497\n",
       "merch_lat                      0\n",
       "merch_long                     0\n",
       "is_fraud                       0\n",
       "Unnamed                  1852394\n",
       "dtype: int64"
      ]
     },
     "execution_count": 12,
     "metadata": {},
     "output_type": "execute_result"
    }
   ],
   "source": [
    "data.isnull().sum()"
   ]
  },
  {
   "cell_type": "markdown",
   "id": "5553e094",
   "metadata": {},
   "source": [
    "# Data Cleaning"
   ]
  },
  {
   "cell_type": "code",
   "execution_count": 14,
   "id": "cbf94181",
   "metadata": {},
   "outputs": [],
   "source": [
    "# Dropping unneccessary columns\n",
    "data.drop(columns=[\"Unnamed: 0\",\"Unnamed\",\"cc_num\",\"street\",\"trans_num\",\"unix_time\"], inplace=True)"
   ]
  },
  {
   "cell_type": "code",
   "execution_count": 15,
   "id": "a26d05fb",
   "metadata": {},
   "outputs": [
    {
     "data": {
      "text/plain": [
       "(1877902, 18)"
      ]
     },
     "execution_count": 15,
     "metadata": {},
     "output_type": "execute_result"
    }
   ],
   "source": [
    "data.shape"
   ]
  },
  {
   "cell_type": "code",
   "execution_count": 16,
   "id": "fabf0ee8",
   "metadata": {},
   "outputs": [
    {
     "data": {
      "text/plain": [
       "19644"
      ]
     },
     "execution_count": 16,
     "metadata": {},
     "output_type": "execute_result"
    }
   ],
   "source": [
    "data.duplicated().sum()"
   ]
  },
  {
   "cell_type": "code",
   "execution_count": 17,
   "id": "a94be06f",
   "metadata": {},
   "outputs": [],
   "source": [
    "data= data.drop_duplicates()\n",
    "\n",
    "# Reset the index after removing duplicates (optional)\n",
    "data.reset_index(drop=True, inplace=True)"
   ]
  },
  {
   "cell_type": "code",
   "execution_count": 18,
   "id": "20fd4bf6",
   "metadata": {},
   "outputs": [
    {
     "data": {
      "text/plain": [
       "(1858258, 18)"
      ]
     },
     "execution_count": 18,
     "metadata": {},
     "output_type": "execute_result"
    }
   ],
   "source": [
    "data.shape"
   ]
  },
  {
   "cell_type": "code",
   "execution_count": 19,
   "id": "2cfbf701",
   "metadata": {},
   "outputs": [
    {
     "data": {
      "text/plain": [
       "trans_date_trans_time        0\n",
       "merchant                     0\n",
       "category                 14311\n",
       "amt                      16403\n",
       "first                        0\n",
       "last                         0\n",
       "gender                       0\n",
       "city                         0\n",
       "state                        0\n",
       "zip                          0\n",
       "lat                          0\n",
       "long                         0\n",
       "city_pop                     0\n",
       "job                          0\n",
       "dob                          0\n",
       "merch_lat                    0\n",
       "merch_long                   0\n",
       "is_fraud                     0\n",
       "dtype: int64"
      ]
     },
     "execution_count": 19,
     "metadata": {},
     "output_type": "execute_result"
    }
   ],
   "source": [
    "data.isnull().sum()"
   ]
  },
  {
   "cell_type": "code",
   "execution_count": 20,
   "id": "3f17e656",
   "metadata": {},
   "outputs": [
    {
     "data": {
      "text/plain": [
       "trans_date_trans_time    0.000000\n",
       "merchant                 0.000000\n",
       "category                 0.007701\n",
       "amt                      0.008827\n",
       "first                    0.000000\n",
       "last                     0.000000\n",
       "gender                   0.000000\n",
       "city                     0.000000\n",
       "state                    0.000000\n",
       "zip                      0.000000\n",
       "lat                      0.000000\n",
       "long                     0.000000\n",
       "city_pop                 0.000000\n",
       "job                      0.000000\n",
       "dob                      0.000000\n",
       "merch_lat                0.000000\n",
       "merch_long               0.000000\n",
       "is_fraud                 0.000000\n",
       "dtype: float64"
      ]
     },
     "execution_count": 20,
     "metadata": {},
     "output_type": "execute_result"
    }
   ],
   "source": [
    "data.isnull().sum()/data.shape[0]"
   ]
  },
  {
   "cell_type": "code",
   "execution_count": 21,
   "id": "71d7e222",
   "metadata": {},
   "outputs": [
    {
     "name": "stdout",
     "output_type": "stream",
     "text": [
      "<class 'pandas.core.frame.DataFrame'>\n",
      "RangeIndex: 1858258 entries, 0 to 1858257\n",
      "Data columns (total 18 columns):\n",
      " #   Column                 Dtype  \n",
      "---  ------                 -----  \n",
      " 0   trans_date_trans_time  object \n",
      " 1   merchant               object \n",
      " 2   category               object \n",
      " 3   amt                    object \n",
      " 4   first                  object \n",
      " 5   last                   object \n",
      " 6   gender                 object \n",
      " 7   city                   object \n",
      " 8   state                  object \n",
      " 9   zip                    int64  \n",
      " 10  lat                    float64\n",
      " 11  long                   float64\n",
      " 12  city_pop               int64  \n",
      " 13  job                    object \n",
      " 14  dob                    object \n",
      " 15  merch_lat              float64\n",
      " 16  merch_long             float64\n",
      " 17  is_fraud               int64  \n",
      "dtypes: float64(4), int64(3), object(11)\n",
      "memory usage: 255.2+ MB\n"
     ]
    }
   ],
   "source": [
    "# Amt Missing values\n",
    "data.info()"
   ]
  },
  {
   "cell_type": "code",
   "execution_count": 22,
   "id": "a2497e60",
   "metadata": {},
   "outputs": [
    {
     "data": {
      "text/plain": [
       "Series([], Name: count, dtype: int64)"
      ]
     },
     "execution_count": 22,
     "metadata": {},
     "output_type": "execute_result"
    }
   ],
   "source": [
    "# Filter rows where the 'amt' column contains float values\n",
    "data[data['amt'].apply(lambda x: isinstance(x, float))].amt.value_counts()\n"
   ]
  },
  {
   "cell_type": "code",
   "execution_count": 23,
   "id": "67342bc5",
   "metadata": {},
   "outputs": [],
   "source": [
    "#Standardizing age column\n",
    "data['amt'] = data['amt'].apply(lambda x: float(x.split()[0])/84 if isinstance(x, str) and x.split()[1]==\"inr\" else x)\n",
    "data['amt'] = data['amt'].apply(lambda x: float(x.split()[0]) if isinstance(x, str) and x.split()[1]==\"usd\" else x)"
   ]
  },
  {
   "cell_type": "code",
   "execution_count": 24,
   "id": "59c17356",
   "metadata": {},
   "outputs": [
    {
     "data": {
      "text/html": [
       "<div>\n",
       "<style scoped>\n",
       "    .dataframe tbody tr th:only-of-type {\n",
       "        vertical-align: middle;\n",
       "    }\n",
       "\n",
       "    .dataframe tbody tr th {\n",
       "        vertical-align: top;\n",
       "    }\n",
       "\n",
       "    .dataframe thead th {\n",
       "        text-align: right;\n",
       "    }\n",
       "</style>\n",
       "<table border=\"1\" class=\"dataframe\">\n",
       "  <thead>\n",
       "    <tr style=\"text-align: right;\">\n",
       "      <th></th>\n",
       "      <th>trans_date_trans_time</th>\n",
       "      <th>merchant</th>\n",
       "      <th>category</th>\n",
       "      <th>amt</th>\n",
       "      <th>first</th>\n",
       "      <th>last</th>\n",
       "      <th>gender</th>\n",
       "      <th>city</th>\n",
       "      <th>state</th>\n",
       "      <th>zip</th>\n",
       "      <th>lat</th>\n",
       "      <th>long</th>\n",
       "      <th>city_pop</th>\n",
       "      <th>job</th>\n",
       "      <th>dob</th>\n",
       "      <th>merch_lat</th>\n",
       "      <th>merch_long</th>\n",
       "      <th>is_fraud</th>\n",
       "    </tr>\n",
       "  </thead>\n",
       "  <tbody>\n",
       "  </tbody>\n",
       "</table>\n",
       "</div>"
      ],
      "text/plain": [
       "Empty DataFrame\n",
       "Columns: [trans_date_trans_time, merchant, category, amt, first, last, gender, city, state, zip, lat, long, city_pop, job, dob, merch_lat, merch_long, is_fraud]\n",
       "Index: []"
      ]
     },
     "execution_count": 24,
     "metadata": {},
     "output_type": "execute_result"
    }
   ],
   "source": [
    "data[data['amt'].astype(str).str.contains('inr', case=False, na=False)]"
   ]
  },
  {
   "cell_type": "code",
   "execution_count": 25,
   "id": "9eacce63",
   "metadata": {},
   "outputs": [
    {
     "data": {
      "text/html": [
       "<div>\n",
       "<style scoped>\n",
       "    .dataframe tbody tr th:only-of-type {\n",
       "        vertical-align: middle;\n",
       "    }\n",
       "\n",
       "    .dataframe tbody tr th {\n",
       "        vertical-align: top;\n",
       "    }\n",
       "\n",
       "    .dataframe thead th {\n",
       "        text-align: right;\n",
       "    }\n",
       "</style>\n",
       "<table border=\"1\" class=\"dataframe\">\n",
       "  <thead>\n",
       "    <tr style=\"text-align: right;\">\n",
       "      <th></th>\n",
       "      <th>trans_date_trans_time</th>\n",
       "      <th>merchant</th>\n",
       "      <th>category</th>\n",
       "      <th>amt</th>\n",
       "      <th>first</th>\n",
       "      <th>last</th>\n",
       "      <th>gender</th>\n",
       "      <th>city</th>\n",
       "      <th>state</th>\n",
       "      <th>zip</th>\n",
       "      <th>lat</th>\n",
       "      <th>long</th>\n",
       "      <th>city_pop</th>\n",
       "      <th>job</th>\n",
       "      <th>dob</th>\n",
       "      <th>merch_lat</th>\n",
       "      <th>merch_long</th>\n",
       "      <th>is_fraud</th>\n",
       "    </tr>\n",
       "  </thead>\n",
       "  <tbody>\n",
       "  </tbody>\n",
       "</table>\n",
       "</div>"
      ],
      "text/plain": [
       "Empty DataFrame\n",
       "Columns: [trans_date_trans_time, merchant, category, amt, first, last, gender, city, state, zip, lat, long, city_pop, job, dob, merch_lat, merch_long, is_fraud]\n",
       "Index: []"
      ]
     },
     "execution_count": 25,
     "metadata": {},
     "output_type": "execute_result"
    }
   ],
   "source": [
    "data[data['amt'].astype(str).str.contains('usd', case=False, na=False)]"
   ]
  },
  {
   "cell_type": "code",
   "execution_count": 26,
   "id": "614caefd",
   "metadata": {},
   "outputs": [
    {
     "name": "stdout",
     "output_type": "stream",
     "text": [
      "<class 'pandas.core.frame.DataFrame'>\n",
      "RangeIndex: 1858258 entries, 0 to 1858257\n",
      "Data columns (total 18 columns):\n",
      " #   Column                 Dtype  \n",
      "---  ------                 -----  \n",
      " 0   trans_date_trans_time  object \n",
      " 1   merchant               object \n",
      " 2   category               object \n",
      " 3   amt                    float64\n",
      " 4   first                  object \n",
      " 5   last                   object \n",
      " 6   gender                 object \n",
      " 7   city                   object \n",
      " 8   state                  object \n",
      " 9   zip                    int64  \n",
      " 10  lat                    float64\n",
      " 11  long                   float64\n",
      " 12  city_pop               int64  \n",
      " 13  job                    object \n",
      " 14  dob                    object \n",
      " 15  merch_lat              float64\n",
      " 16  merch_long             float64\n",
      " 17  is_fraud               int64  \n",
      "dtypes: float64(5), int64(3), object(10)\n",
      "memory usage: 255.2+ MB\n"
     ]
    }
   ],
   "source": [
    "data.info()"
   ]
  },
  {
   "cell_type": "code",
   "execution_count": 27,
   "id": "56b5c79a",
   "metadata": {},
   "outputs": [
    {
     "data": {
      "text/plain": [
       "category\n",
       "gas_transport     187179\n",
       "grocery_pos       175609\n",
       "home              174543\n",
       "shopping_pos      165695\n",
       "kids_pets         160988\n",
       "shopping_net      138694\n",
       "entertainment     133480\n",
       "food_dining       130026\n",
       "personal_care     129483\n",
       "health_fitness    121918\n",
       "misc_pos          113734\n",
       "misc_net           90308\n",
       "grocery_net        64621\n",
       "travel             57669\n",
       "Name: count, dtype: int64"
      ]
     },
     "execution_count": 27,
     "metadata": {},
     "output_type": "execute_result"
    }
   ],
   "source": [
    "# Data Cleaning: amt variable\n",
    "data.category.value_counts()"
   ]
  },
  {
   "cell_type": "code",
   "execution_count": 28,
   "id": "c6531a16",
   "metadata": {},
   "outputs": [
    {
     "data": {
      "text/plain": [
       "0    gas_transport\n",
       "Name: category, dtype: object"
      ]
     },
     "execution_count": 28,
     "metadata": {},
     "output_type": "execute_result"
    }
   ],
   "source": [
    "data.category.mode()"
   ]
  },
  {
   "cell_type": "markdown",
   "id": "a0b6bee3",
   "metadata": {},
   "source": [
    "Impute missing values in the 'category' column using the most frequent category (mode)\n",
    "\n",
    "data['category'].fillna(data['category'].mode()[0], inplace=True)\n",
    "\n"
   ]
  },
  {
   "cell_type": "code",
   "execution_count": 30,
   "id": "4aae7d8a",
   "metadata": {},
   "outputs": [],
   "source": [
    "data['category'].fillna(data['category'].mode()[0], inplace=True)"
   ]
  },
  {
   "cell_type": "code",
   "execution_count": 31,
   "id": "05f66aa2",
   "metadata": {},
   "outputs": [
    {
     "data": {
      "text/plain": [
       "trans_date_trans_time        0\n",
       "merchant                     0\n",
       "category                     0\n",
       "amt                      16403\n",
       "first                        0\n",
       "last                         0\n",
       "gender                       0\n",
       "city                         0\n",
       "state                        0\n",
       "zip                          0\n",
       "lat                          0\n",
       "long                         0\n",
       "city_pop                     0\n",
       "job                          0\n",
       "dob                          0\n",
       "merch_lat                    0\n",
       "merch_long                   0\n",
       "is_fraud                     0\n",
       "dtype: int64"
      ]
     },
     "execution_count": 31,
     "metadata": {},
     "output_type": "execute_result"
    }
   ],
   "source": [
    "data.isnull().sum()"
   ]
  },
  {
   "cell_type": "code",
   "execution_count": 32,
   "id": "97417c38",
   "metadata": {},
   "outputs": [
    {
     "data": {
      "text/html": [
       "<div>\n",
       "<style scoped>\n",
       "    .dataframe tbody tr th:only-of-type {\n",
       "        vertical-align: middle;\n",
       "    }\n",
       "\n",
       "    .dataframe tbody tr th {\n",
       "        vertical-align: top;\n",
       "    }\n",
       "\n",
       "    .dataframe thead th {\n",
       "        text-align: right;\n",
       "    }\n",
       "</style>\n",
       "<table border=\"1\" class=\"dataframe\">\n",
       "  <thead>\n",
       "    <tr style=\"text-align: right;\">\n",
       "      <th></th>\n",
       "      <th>amt</th>\n",
       "      <th>zip</th>\n",
       "      <th>lat</th>\n",
       "      <th>long</th>\n",
       "      <th>city_pop</th>\n",
       "      <th>merch_lat</th>\n",
       "      <th>merch_long</th>\n",
       "      <th>is_fraud</th>\n",
       "    </tr>\n",
       "  </thead>\n",
       "  <tbody>\n",
       "    <tr>\n",
       "      <th>count</th>\n",
       "      <td>1.841855e+06</td>\n",
       "      <td>1.858258e+06</td>\n",
       "      <td>1.858258e+06</td>\n",
       "      <td>1.858258e+06</td>\n",
       "      <td>1.858258e+06</td>\n",
       "      <td>1.858258e+06</td>\n",
       "      <td>1.858258e+06</td>\n",
       "      <td>1.858258e+06</td>\n",
       "    </tr>\n",
       "    <tr>\n",
       "      <th>mean</th>\n",
       "      <td>6.939760e+01</td>\n",
       "      <td>4.881229e+04</td>\n",
       "      <td>3.853945e+01</td>\n",
       "      <td>-9.022754e+01</td>\n",
       "      <td>8.859596e+04</td>\n",
       "      <td>3.853914e+01</td>\n",
       "      <td>-9.022767e+01</td>\n",
       "      <td>5.225324e-03</td>\n",
       "    </tr>\n",
       "    <tr>\n",
       "      <th>std</th>\n",
       "      <td>1.589760e+02</td>\n",
       "      <td>2.688239e+04</td>\n",
       "      <td>5.071437e+00</td>\n",
       "      <td>1.374814e+01</td>\n",
       "      <td>3.013769e+05</td>\n",
       "      <td>5.105518e+00</td>\n",
       "      <td>1.375998e+01</td>\n",
       "      <td>7.209731e-02</td>\n",
       "    </tr>\n",
       "    <tr>\n",
       "      <th>min</th>\n",
       "      <td>1.190476e-02</td>\n",
       "      <td>1.257000e+03</td>\n",
       "      <td>2.002710e+01</td>\n",
       "      <td>-1.656723e+02</td>\n",
       "      <td>2.300000e+01</td>\n",
       "      <td>1.902742e+01</td>\n",
       "      <td>-1.666716e+02</td>\n",
       "      <td>0.000000e+00</td>\n",
       "    </tr>\n",
       "    <tr>\n",
       "      <th>25%</th>\n",
       "      <td>9.350000e+00</td>\n",
       "      <td>2.623700e+04</td>\n",
       "      <td>3.466890e+01</td>\n",
       "      <td>-9.679800e+01</td>\n",
       "      <td>7.410000e+02</td>\n",
       "      <td>3.474057e+01</td>\n",
       "      <td>-9.689943e+01</td>\n",
       "      <td>0.000000e+00</td>\n",
       "    </tr>\n",
       "    <tr>\n",
       "      <th>50%</th>\n",
       "      <td>4.676000e+01</td>\n",
       "      <td>4.817400e+04</td>\n",
       "      <td>3.935430e+01</td>\n",
       "      <td>-8.747690e+01</td>\n",
       "      <td>2.443000e+03</td>\n",
       "      <td>3.936926e+01</td>\n",
       "      <td>-8.744075e+01</td>\n",
       "      <td>0.000000e+00</td>\n",
       "    </tr>\n",
       "    <tr>\n",
       "      <th>75%</th>\n",
       "      <td>8.261000e+01</td>\n",
       "      <td>7.201100e+04</td>\n",
       "      <td>4.194040e+01</td>\n",
       "      <td>-8.015800e+01</td>\n",
       "      <td>2.032800e+04</td>\n",
       "      <td>4.195626e+01</td>\n",
       "      <td>-8.024418e+01</td>\n",
       "      <td>0.000000e+00</td>\n",
       "    </tr>\n",
       "    <tr>\n",
       "      <th>max</th>\n",
       "      <td>2.894890e+04</td>\n",
       "      <td>9.992100e+04</td>\n",
       "      <td>6.669330e+01</td>\n",
       "      <td>-6.795030e+01</td>\n",
       "      <td>2.906700e+06</td>\n",
       "      <td>6.751027e+01</td>\n",
       "      <td>-6.695090e+01</td>\n",
       "      <td>1.000000e+00</td>\n",
       "    </tr>\n",
       "  </tbody>\n",
       "</table>\n",
       "</div>"
      ],
      "text/plain": [
       "                amt           zip           lat          long      city_pop  \\\n",
       "count  1.841855e+06  1.858258e+06  1.858258e+06  1.858258e+06  1.858258e+06   \n",
       "mean   6.939760e+01  4.881229e+04  3.853945e+01 -9.022754e+01  8.859596e+04   \n",
       "std    1.589760e+02  2.688239e+04  5.071437e+00  1.374814e+01  3.013769e+05   \n",
       "min    1.190476e-02  1.257000e+03  2.002710e+01 -1.656723e+02  2.300000e+01   \n",
       "25%    9.350000e+00  2.623700e+04  3.466890e+01 -9.679800e+01  7.410000e+02   \n",
       "50%    4.676000e+01  4.817400e+04  3.935430e+01 -8.747690e+01  2.443000e+03   \n",
       "75%    8.261000e+01  7.201100e+04  4.194040e+01 -8.015800e+01  2.032800e+04   \n",
       "max    2.894890e+04  9.992100e+04  6.669330e+01 -6.795030e+01  2.906700e+06   \n",
       "\n",
       "          merch_lat    merch_long      is_fraud  \n",
       "count  1.858258e+06  1.858258e+06  1.858258e+06  \n",
       "mean   3.853914e+01 -9.022767e+01  5.225324e-03  \n",
       "std    5.105518e+00  1.375998e+01  7.209731e-02  \n",
       "min    1.902742e+01 -1.666716e+02  0.000000e+00  \n",
       "25%    3.474057e+01 -9.689943e+01  0.000000e+00  \n",
       "50%    3.936926e+01 -8.744075e+01  0.000000e+00  \n",
       "75%    4.195626e+01 -8.024418e+01  0.000000e+00  \n",
       "max    6.751027e+01 -6.695090e+01  1.000000e+00  "
      ]
     },
     "execution_count": 32,
     "metadata": {},
     "output_type": "execute_result"
    }
   ],
   "source": [
    "data.describe()"
   ]
  },
  {
   "cell_type": "code",
   "execution_count": 33,
   "id": "541c908b",
   "metadata": {},
   "outputs": [
    {
     "name": "stdout",
     "output_type": "stream",
     "text": [
      "<class 'pandas.core.frame.DataFrame'>\n",
      "RangeIndex: 1858258 entries, 0 to 1858257\n",
      "Data columns (total 18 columns):\n",
      " #   Column                 Dtype  \n",
      "---  ------                 -----  \n",
      " 0   trans_date_trans_time  object \n",
      " 1   merchant               object \n",
      " 2   category               object \n",
      " 3   amt                    float64\n",
      " 4   first                  object \n",
      " 5   last                   object \n",
      " 6   gender                 object \n",
      " 7   city                   object \n",
      " 8   state                  object \n",
      " 9   zip                    int64  \n",
      " 10  lat                    float64\n",
      " 11  long                   float64\n",
      " 12  city_pop               int64  \n",
      " 13  job                    object \n",
      " 14  dob                    object \n",
      " 15  merch_lat              float64\n",
      " 16  merch_long             float64\n",
      " 17  is_fraud               int64  \n",
      "dtypes: float64(5), int64(3), object(10)\n",
      "memory usage: 255.2+ MB\n"
     ]
    }
   ],
   "source": [
    "data.info()"
   ]
  },
  {
   "cell_type": "code",
   "execution_count": 34,
   "id": "dc1f0b03",
   "metadata": {},
   "outputs": [],
   "source": [
    "data['amt'].fillna(data['amt'].median(), inplace=True)"
   ]
  },
  {
   "cell_type": "code",
   "execution_count": 35,
   "id": "0e25f682",
   "metadata": {},
   "outputs": [
    {
     "data": {
      "text/plain": [
       "trans_date_trans_time    0\n",
       "merchant                 0\n",
       "category                 0\n",
       "amt                      0\n",
       "first                    0\n",
       "last                     0\n",
       "gender                   0\n",
       "city                     0\n",
       "state                    0\n",
       "zip                      0\n",
       "lat                      0\n",
       "long                     0\n",
       "city_pop                 0\n",
       "job                      0\n",
       "dob                      0\n",
       "merch_lat                0\n",
       "merch_long               0\n",
       "is_fraud                 0\n",
       "dtype: int64"
      ]
     },
     "execution_count": 35,
     "metadata": {},
     "output_type": "execute_result"
    }
   ],
   "source": [
    "data.isnull().sum()"
   ]
  },
  {
   "cell_type": "code",
   "execution_count": 36,
   "id": "59970eb2",
   "metadata": {},
   "outputs": [
    {
     "data": {
      "text/plain": [
       "(1858258, 18)"
      ]
     },
     "execution_count": 36,
     "metadata": {},
     "output_type": "execute_result"
    }
   ],
   "source": [
    "data.shape"
   ]
  },
  {
   "cell_type": "code",
   "execution_count": null,
   "id": "eb0b49e5",
   "metadata": {},
   "outputs": [],
   "source": []
  },
  {
   "cell_type": "code",
   "execution_count": 37,
   "id": "d031109b",
   "metadata": {},
   "outputs": [
    {
     "name": "stdout",
     "output_type": "stream",
     "text": [
      "<class 'pandas.core.frame.DataFrame'>\n",
      "RangeIndex: 1858258 entries, 0 to 1858257\n",
      "Data columns (total 18 columns):\n",
      " #   Column                 Dtype  \n",
      "---  ------                 -----  \n",
      " 0   trans_date_trans_time  object \n",
      " 1   merchant               object \n",
      " 2   category               object \n",
      " 3   amt                    float64\n",
      " 4   first                  object \n",
      " 5   last                   object \n",
      " 6   gender                 object \n",
      " 7   city                   object \n",
      " 8   state                  object \n",
      " 9   zip                    int64  \n",
      " 10  lat                    float64\n",
      " 11  long                   float64\n",
      " 12  city_pop               int64  \n",
      " 13  job                    object \n",
      " 14  dob                    object \n",
      " 15  merch_lat              float64\n",
      " 16  merch_long             float64\n",
      " 17  is_fraud               int64  \n",
      "dtypes: float64(5), int64(3), object(10)\n",
      "memory usage: 255.2+ MB\n"
     ]
    }
   ],
   "source": [
    "data.info()"
   ]
  },
  {
   "cell_type": "markdown",
   "id": "e306109d",
   "metadata": {},
   "source": [
    "# Data Transformations"
   ]
  },
  {
   "cell_type": "code",
   "execution_count": null,
   "id": "846614bb",
   "metadata": {},
   "outputs": [],
   "source": []
  },
  {
   "cell_type": "code",
   "execution_count": 39,
   "id": "22229032",
   "metadata": {},
   "outputs": [],
   "source": [
    "import datetime as dt"
   ]
  },
  {
   "cell_type": "code",
   "execution_count": 40,
   "id": "4d16b810",
   "metadata": {},
   "outputs": [],
   "source": [
    "\n",
    "data[\"trans_hour\"]= pd.to_datetime(data['trans_date_trans_time']).dt.hour\n",
    "data[\"trans_day\"] = pd.to_datetime(data['trans_date_trans_time']).dt.day\n",
    "data[\"trans_month\"] = pd.to_datetime(data['trans_date_trans_time']).dt.month\n",
    "data[\"trans_year\"] = pd.to_datetime(data['trans_date_trans_time']).dt.year\n"
   ]
  },
  {
   "cell_type": "code",
   "execution_count": 41,
   "id": "1f03da78",
   "metadata": {},
   "outputs": [
    {
     "ename": "ValueError",
     "evalue": "unconverted data remains when parsing with format \"%Y-%m-%d\": \" 00:00:00\", at position 1852394. You might want to try:\n    - passing `format` if your strings have a consistent format;\n    - passing `format='ISO8601'` if your strings are all ISO8601 but not necessarily in exactly the same format;\n    - passing `format='mixed'`, and the format will be inferred for each element individually. You might want to use `dayfirst` alongside this.",
     "output_type": "error",
     "traceback": [
      "\u001b[0;31m---------------------------------------------------------------------------\u001b[0m",
      "\u001b[0;31mValueError\u001b[0m                                Traceback (most recent call last)",
      "Cell \u001b[0;32mIn[41], line 1\u001b[0m\n\u001b[0;32m----> 1\u001b[0m data[\u001b[38;5;124m'\u001b[39m\u001b[38;5;124mcustomer_age\u001b[39m\u001b[38;5;124m'\u001b[39m] \u001b[38;5;241m=\u001b[39m dt\u001b[38;5;241m.\u001b[39mdate\u001b[38;5;241m.\u001b[39mtoday()\u001b[38;5;241m.\u001b[39myear \u001b[38;5;241m-\u001b[39m pd\u001b[38;5;241m.\u001b[39mto_datetime(data[\u001b[38;5;124m'\u001b[39m\u001b[38;5;124mdob\u001b[39m\u001b[38;5;124m'\u001b[39m])\u001b[38;5;241m.\u001b[39mdt\u001b[38;5;241m.\u001b[39myear\n\u001b[1;32m      2\u001b[0m data[\u001b[38;5;124m'\u001b[39m\u001b[38;5;124mcustomer_age\u001b[39m\u001b[38;5;124m'\u001b[39m]\u001b[38;5;241m.\u001b[39mhead()\n",
      "File \u001b[0;32m/opt/anaconda3/lib/python3.12/site-packages/pandas/core/tools/datetimes.py:1067\u001b[0m, in \u001b[0;36mto_datetime\u001b[0;34m(arg, errors, dayfirst, yearfirst, utc, format, exact, unit, infer_datetime_format, origin, cache)\u001b[0m\n\u001b[1;32m   1065\u001b[0m         result \u001b[38;5;241m=\u001b[39m arg\u001b[38;5;241m.\u001b[39mmap(cache_array)\n\u001b[1;32m   1066\u001b[0m     \u001b[38;5;28;01melse\u001b[39;00m:\n\u001b[0;32m-> 1067\u001b[0m         values \u001b[38;5;241m=\u001b[39m convert_listlike(arg\u001b[38;5;241m.\u001b[39m_values, \u001b[38;5;28mformat\u001b[39m)\n\u001b[1;32m   1068\u001b[0m         result \u001b[38;5;241m=\u001b[39m arg\u001b[38;5;241m.\u001b[39m_constructor(values, index\u001b[38;5;241m=\u001b[39marg\u001b[38;5;241m.\u001b[39mindex, name\u001b[38;5;241m=\u001b[39marg\u001b[38;5;241m.\u001b[39mname)\n\u001b[1;32m   1069\u001b[0m \u001b[38;5;28;01melif\u001b[39;00m \u001b[38;5;28misinstance\u001b[39m(arg, (ABCDataFrame, abc\u001b[38;5;241m.\u001b[39mMutableMapping)):\n",
      "File \u001b[0;32m/opt/anaconda3/lib/python3.12/site-packages/pandas/core/tools/datetimes.py:433\u001b[0m, in \u001b[0;36m_convert_listlike_datetimes\u001b[0;34m(arg, format, name, utc, unit, errors, dayfirst, yearfirst, exact)\u001b[0m\n\u001b[1;32m    431\u001b[0m \u001b[38;5;66;03m# `format` could be inferred, or user didn't ask for mixed-format parsing.\u001b[39;00m\n\u001b[1;32m    432\u001b[0m \u001b[38;5;28;01mif\u001b[39;00m \u001b[38;5;28mformat\u001b[39m \u001b[38;5;129;01mis\u001b[39;00m \u001b[38;5;129;01mnot\u001b[39;00m \u001b[38;5;28;01mNone\u001b[39;00m \u001b[38;5;129;01mand\u001b[39;00m \u001b[38;5;28mformat\u001b[39m \u001b[38;5;241m!=\u001b[39m \u001b[38;5;124m\"\u001b[39m\u001b[38;5;124mmixed\u001b[39m\u001b[38;5;124m\"\u001b[39m:\n\u001b[0;32m--> 433\u001b[0m     \u001b[38;5;28;01mreturn\u001b[39;00m _array_strptime_with_fallback(arg, name, utc, \u001b[38;5;28mformat\u001b[39m, exact, errors)\n\u001b[1;32m    435\u001b[0m result, tz_parsed \u001b[38;5;241m=\u001b[39m objects_to_datetime64(\n\u001b[1;32m    436\u001b[0m     arg,\n\u001b[1;32m    437\u001b[0m     dayfirst\u001b[38;5;241m=\u001b[39mdayfirst,\n\u001b[0;32m   (...)\u001b[0m\n\u001b[1;32m    441\u001b[0m     allow_object\u001b[38;5;241m=\u001b[39m\u001b[38;5;28;01mTrue\u001b[39;00m,\n\u001b[1;32m    442\u001b[0m )\n\u001b[1;32m    444\u001b[0m \u001b[38;5;28;01mif\u001b[39;00m tz_parsed \u001b[38;5;129;01mis\u001b[39;00m \u001b[38;5;129;01mnot\u001b[39;00m \u001b[38;5;28;01mNone\u001b[39;00m:\n\u001b[1;32m    445\u001b[0m     \u001b[38;5;66;03m# We can take a shortcut since the datetime64 numpy array\u001b[39;00m\n\u001b[1;32m    446\u001b[0m     \u001b[38;5;66;03m# is in UTC\u001b[39;00m\n",
      "File \u001b[0;32m/opt/anaconda3/lib/python3.12/site-packages/pandas/core/tools/datetimes.py:467\u001b[0m, in \u001b[0;36m_array_strptime_with_fallback\u001b[0;34m(arg, name, utc, fmt, exact, errors)\u001b[0m\n\u001b[1;32m    456\u001b[0m \u001b[38;5;28;01mdef\u001b[39;00m \u001b[38;5;21m_array_strptime_with_fallback\u001b[39m(\n\u001b[1;32m    457\u001b[0m     arg,\n\u001b[1;32m    458\u001b[0m     name,\n\u001b[0;32m   (...)\u001b[0m\n\u001b[1;32m    462\u001b[0m     errors: \u001b[38;5;28mstr\u001b[39m,\n\u001b[1;32m    463\u001b[0m ) \u001b[38;5;241m-\u001b[39m\u001b[38;5;241m>\u001b[39m Index:\n\u001b[1;32m    464\u001b[0m \u001b[38;5;250m    \u001b[39m\u001b[38;5;124;03m\"\"\"\u001b[39;00m\n\u001b[1;32m    465\u001b[0m \u001b[38;5;124;03m    Call array_strptime, with fallback behavior depending on 'errors'.\u001b[39;00m\n\u001b[1;32m    466\u001b[0m \u001b[38;5;124;03m    \"\"\"\u001b[39;00m\n\u001b[0;32m--> 467\u001b[0m     result, tz_out \u001b[38;5;241m=\u001b[39m array_strptime(arg, fmt, exact\u001b[38;5;241m=\u001b[39mexact, errors\u001b[38;5;241m=\u001b[39merrors, utc\u001b[38;5;241m=\u001b[39mutc)\n\u001b[1;32m    468\u001b[0m     \u001b[38;5;28;01mif\u001b[39;00m tz_out \u001b[38;5;129;01mis\u001b[39;00m \u001b[38;5;129;01mnot\u001b[39;00m \u001b[38;5;28;01mNone\u001b[39;00m:\n\u001b[1;32m    469\u001b[0m         unit \u001b[38;5;241m=\u001b[39m np\u001b[38;5;241m.\u001b[39mdatetime_data(result\u001b[38;5;241m.\u001b[39mdtype)[\u001b[38;5;241m0\u001b[39m]\n",
      "File \u001b[0;32mstrptime.pyx:501\u001b[0m, in \u001b[0;36mpandas._libs.tslibs.strptime.array_strptime\u001b[0;34m()\u001b[0m\n",
      "File \u001b[0;32mstrptime.pyx:451\u001b[0m, in \u001b[0;36mpandas._libs.tslibs.strptime.array_strptime\u001b[0;34m()\u001b[0m\n",
      "File \u001b[0;32mstrptime.pyx:587\u001b[0m, in \u001b[0;36mpandas._libs.tslibs.strptime._parse_with_format\u001b[0;34m()\u001b[0m\n",
      "\u001b[0;31mValueError\u001b[0m: unconverted data remains when parsing with format \"%Y-%m-%d\": \" 00:00:00\", at position 1852394. You might want to try:\n    - passing `format` if your strings have a consistent format;\n    - passing `format='ISO8601'` if your strings are all ISO8601 but not necessarily in exactly the same format;\n    - passing `format='mixed'`, and the format will be inferred for each element individually. You might want to use `dayfirst` alongside this."
     ]
    }
   ],
   "source": [
    "data['customer_age'] = dt.date.today().year - pd.to_datetime(data['dob']).dt.year\n",
    "data['customer_age'].head()"
   ]
  },
  {
   "cell_type": "code",
   "execution_count": 52,
   "id": "8015f6f0",
   "metadata": {},
   "outputs": [
    {
     "name": "stdout",
     "output_type": "stream",
     "text": [
      "0    1988-03-09\n",
      "1    1978-06-21\n",
      "2    1962-01-19\n",
      "3    1967-01-12\n",
      "4    1986-03-28\n",
      "5    1961-06-19\n",
      "6    1993-08-16\n",
      "7    1947-08-21\n",
      "8    1941-03-07\n",
      "9    1974-03-28\n",
      "Name: dob, dtype: object\n",
      "object\n"
     ]
    }
   ],
   "source": [
    "print(data['dob'].head(10))  # Print the first 10 rows\n",
    "print(data['dob'].dtype) "
   ]
  },
  {
   "cell_type": "code",
   "execution_count": 54,
   "id": "c043b646",
   "metadata": {},
   "outputs": [],
   "source": [
    "data['dob'] = data['dob'].astype(str).str.split(' ').str[0]\n",
    "\n",
    "data['dob'] = data['dob'].str.split(' ').str[0]\n",
    "\n",
    "data['dob'] = pd.to_datetime(data['dob'], errors='coerce', format='%Y-%m-%d')\n"
   ]
  },
  {
   "cell_type": "code",
   "execution_count": 55,
   "id": "acf90121-34c6-4f78-a45a-ec4f89d76986",
   "metadata": {},
   "outputs": [
    {
     "name": "stdout",
     "output_type": "stream",
     "text": [
      "         dob  customer_age\n",
      "0 1988-03-09            36\n",
      "1 1978-06-21            46\n",
      "2 1962-01-19            62\n",
      "3 1967-01-12            57\n",
      "4 1986-03-28            38\n"
     ]
    }
   ],
   "source": [
    "from datetime import datetime\n",
    "\n",
    "current_year = datetime.now().year\n",
    "data['customer_age'] = current_year - data['dob'].dt.year\n",
    "print(data[['dob', 'customer_age']].head())\n"
   ]
  },
  {
   "cell_type": "code",
   "execution_count": 58,
   "id": "a1926837-7f73-4328-a110-8c78a483bf87",
   "metadata": {},
   "outputs": [
    {
     "name": "stdout",
     "output_type": "stream",
     "text": [
      "Empty DataFrame\n",
      "Columns: [trans_date_trans_time, merchant, category, amt, first, last, gender, city, state, zip, lat, long, city_pop, job, dob, merch_lat, merch_long, is_fraud, trans_hour, trans_day, trans_month, trans_year, customer_age]\n",
      "Index: []\n",
      "\n",
      "[0 rows x 23 columns]\n"
     ]
    }
   ],
   "source": [
    "invalid_dob_rows = data[data['dob'].isna()]\n",
    "print(invalid_dob_rows)"
   ]
  },
  {
   "cell_type": "code",
   "execution_count": 60,
   "id": "f5c738e1",
   "metadata": {},
   "outputs": [],
   "source": [
    "# Dropping unneccessary columns\n",
    "data.drop(columns=[\"trans_date_trans_time\",\"dob\"], inplace=True)"
   ]
  },
  {
   "cell_type": "markdown",
   "id": "c143fc75",
   "metadata": {},
   "source": [
    "# Data Visualization"
   ]
  },
  {
   "cell_type": "code",
   "execution_count": null,
   "id": "04774ac4",
   "metadata": {},
   "outputs": [],
   "source": [
    "data.head()"
   ]
  },
  {
   "cell_type": "code",
   "execution_count": 62,
   "id": "00c654f7",
   "metadata": {},
   "outputs": [
    {
     "data": {
      "image/png": "[encoded data removed]",
      "text/plain": [
       "<Figure size 1000x800 with 1 Axes>"
      ]
     },
     "metadata": {},
     "output_type": "display_data"
    }
   ],
   "source": [
    "# is_fraud by gender\n",
    "plt.figure(figsize=(10,8))\n",
    "ax=sns.countplot(x=\"gender\", hue=\"is_fraud\", data=data)\n",
    "plt.title(\"Fraud and Non-Fraud Count by Gender\")\n",
    "plt.xlabel(\"Gender\")\n",
    "plt.ylabel(\"Count\")\n",
    "for p in ax.patches:\n",
    "    # Get the height of each bar (count value)\n",
    "    height = p.get_height()\n",
    "    \n",
    "    # Add the number on top of the bar\n",
    "    ax.annotate(f'{height}', \n",
    "                (p.get_x() + p.get_width() / 2., height), \n",
    "                ha='center', va='center', \n",
    "                fontsize=12, color='black', \n",
    "                xytext=(0, 10),  # Offset the text slightly above the bar\n",
    "                textcoords='offset points')\n",
    "plt.show()"
   ]
  },
  {
   "cell_type": "code",
   "execution_count": 64,
   "id": "9cd90f70",
   "metadata": {},
   "outputs": [],
   "source": [
    "region_boundaries = {\n",
    "    'NewEngland': {'lat_range': (40, 47), 'long_range': (-74, -66)},\n",
    "    'NY_NJ_PuertoRico_VirginIslands': {'lat_range': (17, 45), 'long_range': (-80, -65)},\n",
    "    'MidAtlantic': {'lat_range': (36, 42), 'long_range': (-83, -74)},\n",
    "    'Southeast': {'lat_range': (24, 39), 'long_range': (-91, -75)}, \n",
    "    'Midwest': {'lat_range': (36, 49), 'long_range': (-93, -80)},  \n",
    "    'SouthCentral': {'lat_range': (25, 37), 'long_range': (-106, -89)}, \n",
    "    'Plains': {'lat_range': (36, 43), 'long_range': (-102, -89)},\n",
    "    'Mountain': {'lat_range': (37, 49), 'long_range': (-114, -102)}, \n",
    "    'WestCoast_PacificIslands': {'lat_range': (13, 42), 'long_range': (-160, -105)},\n",
    "    'Northwest_Alaska': {'lat_range': (42, 72), 'long_range': (-150, -110)}\n",
    "}\n",
    "def get_region_by_lat_long(lat, long):\n",
    "    for region, bounds in region_boundaries.items():\n",
    "        lat_min, lat_max = bounds['lat_range']\n",
    "        long_min, long_max = bounds['long_range']\n",
    "        if lat_min <= lat <= lat_max and long_min <= long <= long_max:\n",
    "            return region\n",
    "    return \"Outside US\"\n",
    "\n",
    "data['cust_loc'] = data.apply(lambda row: get_region_by_lat_long(row['lat'], row['long']), axis=1)\n",
    "data['merch_loc'] = data.apply(lambda row: get_region_by_lat_long(row['merch_lat'], row['merch_long']), axis=1)"
   ]
  },
  {
   "cell_type": "code",
   "execution_count": null,
   "id": "5fa46eb2",
   "metadata": {},
   "outputs": [],
   "source": [
    "def plot_fraud_counts_by_column(df, column):\n",
    "    fraud_df = df[df.is_fraud == 1]\n",
    "    non_df = df[df.is_fraud == 0]\n",
    "    fraud_count = fraud_df.groupby(column).size()\n",
    "    \n",
    "    categories = fraud_count.index\n",
    "    x = np.arange(len(categories))\n",
    "    width = 0.6\n",
    "    mult = 0\n",
    "    \n",
    "    fig, ax = plt.subplots(layout='constrained', figsize = (8, 6))\n",
    "    rects = ax.bar(x, fraud_count, width, label = column)\n",
    "    ax.bar_label(rects, padding = 1.5)\n",
    "\n",
    "    ax.set_ylabel(\"Count\")\n",
    "    ax.set_xticks(x)\n",
    "    ax.set_xticklabels(categories, rotation=90)\n",
    "    ax.set_xlabel(column)\n",
    "    ax.set_title(\"Fraudulent transaction vs Regions\")\n",
    "    ax.legend(ncols=2)\n",
    "    plt.show()\n",
    "\n",
    "columns = ['cust_loc', 'merch_loc', 'state']\n",
    "for cols in columns:\n",
    "    plot_fraud_counts_by_column(data, cols)"
   ]
  },
  {
   "cell_type": "markdown",
   "id": "c1df0527",
   "metadata": {},
   "source": [
    "# Data Preparation for modelling"
   ]
  },
  {
   "cell_type": "code",
   "execution_count": null,
   "id": "2855a869",
   "metadata": {},
   "outputs": [],
   "source": [
    "data.head()"
   ]
  },
  {
   "cell_type": "code",
   "execution_count": null,
   "id": "79d9f557",
   "metadata": {},
   "outputs": [],
   "source": []
  },
  {
   "cell_type": "code",
   "execution_count": 65,
   "id": "2ca09ab4",
   "metadata": {},
   "outputs": [
    {
     "name": "stdout",
     "output_type": "stream",
     "text": [
      "unique number of category: 14\n",
      "unique number of city: 906\n",
      "unique number of state: 51\n",
      "unique number of job: 497\n",
      "unique number of zip: 985\n"
     ]
    }
   ],
   "source": [
    "print(f\"unique number of category: {data['category'].nunique()}\")\n",
    "print(f\"unique number of city: {data['city'].nunique()}\")\n",
    "print(f\"unique number of state: {data['state'].nunique()}\")\n",
    "print(f\"unique number of job: {data['job'].nunique()}\")\n",
    "print(f\"unique number of zip: {data['zip'].nunique()}\")"
   ]
  },
  {
   "cell_type": "code",
   "execution_count": 66,
   "id": "ba1b2a00",
   "metadata": {},
   "outputs": [],
   "source": [
    "from sklearn.preprocessing import LabelEncoder\n",
    "\n",
    "le = LabelEncoder()\n",
    "\n",
    "le.fit(data['category'])\n",
    "encoded_category = le.transform(data['category'])\n",
    "data['enc_category'] = encoded_category\n",
    "\n",
    "le.fit(data['city'])\n",
    "encoded_city = le.transform(data['city'])\n",
    "data['enc_city'] = encoded_city\n",
    "\n",
    "le.fit(data['state'])\n",
    "encoded_state = le.transform(data['state'])\n",
    "data['enc_state'] = encoded_state\n",
    "\n",
    "le.fit(data['job'])\n",
    "encoded_job = le.transform(data['job'])\n",
    "data['enc_job'] = encoded_job\n",
    "\n",
    "le.fit(data['gender'])\n",
    "encoded_job = le.transform(data['gender'])\n",
    "data['enc_gender'] = encoded_job\n",
    "\n",
    "le.fit(data['zip'])\n",
    "encoded_job = le.transform(data['zip'])\n",
    "data['enc_zip'] = encoded_job"
   ]
  },
  {
   "cell_type": "code",
   "execution_count": null,
   "id": "fb9df555",
   "metadata": {},
   "outputs": [],
   "source": []
  },
  {
   "cell_type": "code",
   "execution_count": null,
   "id": "b645412b",
   "metadata": {},
   "outputs": [],
   "source": [
    "data.head()"
   ]
  },
  {
   "cell_type": "code",
   "execution_count": 67,
   "id": "1571795a",
   "metadata": {},
   "outputs": [],
   "source": [
    "# Dropping unneccessary columns\n",
    "data.drop(columns=[\"category\",\"city\",\"state\",\"gender\",\"job\",\"zip\"], inplace=True)"
   ]
  },
  {
   "cell_type": "code",
   "execution_count": null,
   "id": "2fd15fff",
   "metadata": {},
   "outputs": [],
   "source": [
    "data.head()"
   ]
  },
  {
   "cell_type": "code",
   "execution_count": null,
   "id": "e2f3cebc",
   "metadata": {},
   "outputs": [],
   "source": [
    "data.info()"
   ]
  },
  {
   "cell_type": "code",
   "execution_count": 70,
   "id": "8c33166e",
   "metadata": {},
   "outputs": [],
   "source": [
    "df=[\"amt\",\"city_pop\",\"customer_age\",\"is_fraud\",\"trans_hour\",\"trans_day\",\"trans_month\",\"trans_year\",\"enc_category\",\"enc_city\",\"enc_state\",\"enc_job\",\"enc_gender\",\"enc_zip\"]"
   ]
  },
  {
   "cell_type": "code",
   "execution_count": 74,
   "id": "b2f2dd26",
   "metadata": {},
   "outputs": [
    {
     "data": {
      "text/plain": [
       "is_fraud\n",
       "0    1848548\n",
       "1       9710\n",
       "Name: count, dtype: int64"
      ]
     },
     "execution_count": 74,
     "metadata": {},
     "output_type": "execute_result"
    }
   ],
   "source": [
    "data.is_fraud.value_counts()"
   ]
  },
  {
   "cell_type": "code",
   "execution_count": 76,
   "id": "b35576b1",
   "metadata": {},
   "outputs": [],
   "source": [
    "data1=data[df]"
   ]
  },
  {
   "cell_type": "code",
   "execution_count": 78,
   "id": "02e04e82",
   "metadata": {},
   "outputs": [
    {
     "name": "stdout",
     "output_type": "stream",
     "text": [
      "<class 'pandas.core.frame.DataFrame'>\n",
      "RangeIndex: 1858258 entries, 0 to 1858257\n",
      "Data columns (total 14 columns):\n",
      " #   Column        Dtype  \n",
      "---  ------        -----  \n",
      " 0   amt           float64\n",
      " 1   city_pop      int64  \n",
      " 2   customer_age  int64  \n",
      " 3   is_fraud      int64  \n",
      " 4   trans_hour    int32  \n",
      " 5   trans_day     int32  \n",
      " 6   trans_month   int32  \n",
      " 7   trans_year    int32  \n",
      " 8   enc_category  int64  \n",
      " 9   enc_city      int64  \n",
      " 10  enc_state     int64  \n",
      " 11  enc_job       int64  \n",
      " 12  enc_gender    int64  \n",
      " 13  enc_zip       int64  \n",
      "dtypes: float64(1), int32(4), int64(9)\n",
      "memory usage: 170.1 MB\n"
     ]
    }
   ],
   "source": [
    "data1.info()"
   ]
  },
  {
   "cell_type": "markdown",
   "id": "8c350329",
   "metadata": {},
   "source": [
    "# Looking for Coorelations"
   ]
  },
  {
   "cell_type": "code",
   "execution_count": 80,
   "id": "571fca1a",
   "metadata": {},
   "outputs": [
    {
     "data": {
      "image/png": "[encoded data removed]",
      "text/plain": [
       "<Figure size 2000x1000 with 2 Axes>"
      ]
     },
     "metadata": {},
     "output_type": "display_data"
    }
   ],
   "source": [
    "# Let's see the correlation matrix \n",
    "plt.figure(figsize = (20,10))        # Size of the figure\n",
    "sns.heatmap(data1.corr(),annot = True)\n",
    "plt.show()"
   ]
  },
  {
   "cell_type": "code",
   "execution_count": 88,
   "id": "c0e93658",
   "metadata": {},
   "outputs": [],
   "source": [
    "from sklearn.preprocessing import MinMaxScaler"
   ]
  },
  {
   "cell_type": "code",
   "execution_count": 92,
   "id": "e50bf918",
   "metadata": {},
   "outputs": [
    {
     "data": {
      "text/html": [
       "<div>\n",
       "<style scoped>\n",
       "    .dataframe tbody tr th:only-of-type {\n",
       "        vertical-align: middle;\n",
       "    }\n",
       "\n",
       "    .dataframe tbody tr th {\n",
       "        vertical-align: top;\n",
       "    }\n",
       "\n",
       "    .dataframe thead th {\n",
       "        text-align: right;\n",
       "    }\n",
       "</style>\n",
       "<table border=\"1\" class=\"dataframe\">\n",
       "  <thead>\n",
       "    <tr style=\"text-align: right;\">\n",
       "      <th></th>\n",
       "      <th>amt</th>\n",
       "      <th>city_pop</th>\n",
       "      <th>customer_age</th>\n",
       "    </tr>\n",
       "  </thead>\n",
       "  <tbody>\n",
       "    <tr>\n",
       "      <th>0</th>\n",
       "      <td>4.97</td>\n",
       "      <td>3495</td>\n",
       "      <td>36</td>\n",
       "    </tr>\n",
       "    <tr>\n",
       "      <th>1</th>\n",
       "      <td>107.23</td>\n",
       "      <td>149</td>\n",
       "      <td>46</td>\n",
       "    </tr>\n",
       "    <tr>\n",
       "      <th>2</th>\n",
       "      <td>220.11</td>\n",
       "      <td>4154</td>\n",
       "      <td>62</td>\n",
       "    </tr>\n",
       "    <tr>\n",
       "      <th>3</th>\n",
       "      <td>45.00</td>\n",
       "      <td>1939</td>\n",
       "      <td>57</td>\n",
       "    </tr>\n",
       "    <tr>\n",
       "      <th>4</th>\n",
       "      <td>41.96</td>\n",
       "      <td>99</td>\n",
       "      <td>38</td>\n",
       "    </tr>\n",
       "  </tbody>\n",
       "</table>\n",
       "</div>"
      ],
      "text/plain": [
       "      amt  city_pop  customer_age\n",
       "0    4.97      3495            36\n",
       "1  107.23       149            46\n",
       "2  220.11      4154            62\n",
       "3   45.00      1939            57\n",
       "4   41.96        99            38"
      ]
     },
     "execution_count": 92,
     "metadata": {},
     "output_type": "execute_result"
    }
   ],
   "source": [
    "scaler=MinMaxScaler()\n",
    "\n",
    "# create the list of numeric variables\n",
    "num_vars=['amt','city_pop','customer_age']\n",
    "data1[num_vars].head()"
   ]
  },
  {
   "cell_type": "code",
   "execution_count": 96,
   "id": "87790b4f",
   "metadata": {},
   "outputs": [
    {
     "data": {
      "text/html": [
       "<div>\n",
       "<style scoped>\n",
       "    .dataframe tbody tr th:only-of-type {\n",
       "        vertical-align: middle;\n",
       "    }\n",
       "\n",
       "    .dataframe tbody tr th {\n",
       "        vertical-align: top;\n",
       "    }\n",
       "\n",
       "    .dataframe thead th {\n",
       "        text-align: right;\n",
       "    }\n",
       "</style>\n",
       "<table border=\"1\" class=\"dataframe\">\n",
       "  <thead>\n",
       "    <tr style=\"text-align: right;\">\n",
       "      <th></th>\n",
       "      <th>amt</th>\n",
       "      <th>city_pop</th>\n",
       "      <th>customer_age</th>\n",
       "    </tr>\n",
       "  </thead>\n",
       "  <tbody>\n",
       "    <tr>\n",
       "      <th>0</th>\n",
       "      <td>0.000171</td>\n",
       "      <td>0.001194</td>\n",
       "      <td>0.209877</td>\n",
       "    </tr>\n",
       "    <tr>\n",
       "      <th>1</th>\n",
       "      <td>0.003704</td>\n",
       "      <td>0.000043</td>\n",
       "      <td>0.333333</td>\n",
       "    </tr>\n",
       "    <tr>\n",
       "      <th>2</th>\n",
       "      <td>0.007603</td>\n",
       "      <td>0.001421</td>\n",
       "      <td>0.530864</td>\n",
       "    </tr>\n",
       "    <tr>\n",
       "      <th>3</th>\n",
       "      <td>0.001554</td>\n",
       "      <td>0.000659</td>\n",
       "      <td>0.469136</td>\n",
       "    </tr>\n",
       "    <tr>\n",
       "      <th>4</th>\n",
       "      <td>0.001449</td>\n",
       "      <td>0.000026</td>\n",
       "      <td>0.234568</td>\n",
       "    </tr>\n",
       "  </tbody>\n",
       "</table>\n",
       "</div>"
      ],
      "text/plain": [
       "        amt  city_pop  customer_age\n",
       "0  0.000171  0.001194      0.209877\n",
       "1  0.003704  0.000043      0.333333\n",
       "2  0.007603  0.001421      0.530864\n",
       "3  0.001554  0.000659      0.469136\n",
       "4  0.001449  0.000026      0.234568"
      ]
     },
     "execution_count": 96,
     "metadata": {},
     "output_type": "execute_result"
    }
   ],
   "source": [
    "data1[num_vars]=scaler.fit_transform(data1[num_vars])\n",
    "data1[num_vars].head()"
   ]
  },
  {
   "cell_type": "markdown",
   "id": "19ebc52d",
   "metadata": {},
   "source": [
    "# Train Test Split"
   ]
  },
  {
   "cell_type": "code",
   "execution_count": null,
   "id": "44173aba",
   "metadata": {},
   "outputs": [],
   "source": [
    "from sklearn.model_selection import train_test_split"
   ]
  },
  {
   "cell_type": "code",
   "execution_count": null,
   "id": "cc8267d9",
   "metadata": {},
   "outputs": [],
   "source": [
    "df_train,df_test=train_test_split(data1, train_size=0.7,test_size=0.3, random_state=100)\n",
    "print(df_train.shape)\n",
    "print(df_test.shape)"
   ]
  },
  {
   "cell_type": "code",
   "execution_count": null,
   "id": "79dc0c28",
   "metadata": {},
   "outputs": [],
   "source": [
    "df_train.head()"
   ]
  },
  {
   "cell_type": "code",
   "execution_count": null,
   "id": "c5acaa95-9073-45ca-904c-9d752734777f",
   "metadata": {},
   "outputs": [],
   "source": [
    "X = df_train[['amt', 'city_pop', 'customer_age', 'trans_hour', 'trans_day', 'trans_month', 'trans_year']]\n",
    "y = df_train['is_fraud'].astype(int)\n",
    "X.head()\n"
   ]
  },
  {
   "cell_type": "code",
   "execution_count": null,
   "id": "753de8b0-5682-446b-94fa-587846cd6879",
   "metadata": {},
   "outputs": [],
   "source": [
    "X_test = df_test[['amt', 'city_pop', 'customer_age', 'trans_hour', 'trans_day', 'trans_month', 'trans_year']]\n",
    "y_test = df_test['is_fraud'].astype(int)\n",
    "X_test.head()\n"
   ]
  },
  {
   "cell_type": "code",
   "execution_count": 100,
   "id": "6a3791c5-ca58-4968-9e71-f2e03cb96087",
   "metadata": {},
   "outputs": [
    {
     "name": "stdout",
     "output_type": "stream",
     "text": [
      "Fold 1\n",
      "Fold 2\n",
      "Fold 3\n",
      "Fold 4\n",
      "Fold 5\n"
     ]
    }
   ],
   "source": [
    "from sklearn.model_selection import KFold\n",
    "import numpy as np\n",
    "\n",
    "# Assuming `data1` is your dataset (features and target combined)\n",
    "X = data1.drop('is_fraud', axis=1)  # Replace 'target' with your target column name\n",
    "y = data1['is_fraud']               # Replace 'target' with your target column name\n",
    "\n",
    "# Number of splits (folds)\n",
    "k = 5  # You can adjust this depending on how many folds you want\n",
    "\n",
    "kf = KFold(n_splits=k, shuffle=True, random_state=42)\n",
    "\n",
    "# Now we iterate over each fold\n",
    "for fold, (train_index, test_index) in enumerate(kf.split(X, y)):\n",
    "    print(f\"Fold {fold + 1}\")\n",
    "    \n",
    "    # Split the data into train and test sets for this fold\n",
    "    X_train, X_test = X.iloc[train_index], X.iloc[test_index]\n",
    "    y_train, y_test = y.iloc[train_index], y.iloc[test_index]"
   ]
  },
  {
   "cell_type": "code",
   "execution_count": 102,
   "id": "5ae92b35",
   "metadata": {},
   "outputs": [
    {
     "name": "stdout",
     "output_type": "stream",
     "text": [
      "Random Forest Accuracy: 0.9947262350969054\n",
      "\n",
      "Classification Report:\n",
      "               precision    recall  f1-score   support\n",
      "\n",
      "           0       0.99      1.00      1.00    369689\n",
      "           1       1.00      0.00      0.00      1962\n",
      "\n",
      "    accuracy                           0.99    371651\n",
      "   macro avg       1.00      0.50      0.50    371651\n",
      "weighted avg       0.99      0.99      0.99    371651\n",
      "\n"
     ]
    }
   ],
   "source": [
    "import numpy as np\n",
    "import pandas as pd\n",
    "from sklearn.ensemble import RandomForestClassifier\n",
    "from sklearn.metrics import accuracy_score, classification_report\n",
    "from sklearn.model_selection import train_test_split\n",
    "\n",
    "\n",
    "# --- Load and Split Data ---\n",
    "# Assuming you already have your `X` (features) and `y` (labels) prepared\n",
    "# Replace `X.values` and `y.values` with the actual data variables if needed\n",
    "\n",
    "# --- Train Random Forest ---\n",
    "rf = RandomForestClassifier(\n",
    "    n_estimators=20,       # Number of trees in the forest\n",
    "    max_depth=3,           # Maximum depth of each tree\n",
    "    random_state=42,       # Ensure reproducibility\n",
    "    n_jobs=-1              # Use all available CPU cores for parallel processing\n",
    ")\n",
    "rf.fit(X_train, y_train)\n",
    "\n",
    "# --- Make Predictions ---\n",
    "y_pred_rf = rf.predict(X_test)\n",
    "\n",
    "# --- Evaluate the Model ---\n",
    "accuracy = accuracy_score(y_test, y_pred_rf)\n",
    "print(f\"Random Forest Accuracy: {accuracy}\")\n",
    "print(\"\\nClassification Report:\\n\", classification_report(y_test, y_pred_rf))"
   ]
  },
  {
   "cell_type": "code",
   "execution_count": 106,
   "id": "bd032b50",
   "metadata": {},
   "outputs": [
    {
     "name": "stdout",
     "output_type": "stream",
     "text": [
      "Neural Network Accuracy: 0.9947208537041472\n",
      "\n",
      "Classification Report (Neural Network):\n",
      "               precision    recall  f1-score   support\n",
      "\n",
      "           0       0.99      1.00      1.00    369689\n",
      "           1       0.00      0.00      0.00      1962\n",
      "\n",
      "    accuracy                           0.99    371651\n",
      "   macro avg       0.50      0.50      0.50    371651\n",
      "weighted avg       0.99      0.99      0.99    371651\n",
      "\n"
     ]
    }
   ],
   "source": [
    "from sklearn.neural_network import MLPClassifier\n",
    "from sklearn.metrics import accuracy_score, classification_report\n",
    "\n",
    "# --- Train Neural Network ---\n",
    "mlp = MLPClassifier(\n",
    "    hidden_layer_sizes=(100,),  # One hidden layer with 100 neurons (tune for your problem)\n",
    "    max_iter=500,               # Number of iterations\n",
    "    random_state=42,            # Ensure reproducibility\n",
    "    solver='adam',              # Optimization algorithm\n",
    "    activation='relu',          # Activation function for hidden layers\n",
    "    learning_rate='adaptive'   # Learning rate to adapt over time\n",
    "#    n_jobs=-1                   # Use all CPU cores for parallel processing\n",
    ")\n",
    "\n",
    "mlp.fit(X_train, y_train)\n",
    "\n",
    "# --- Make Predictions ---\n",
    "y_pred_mlp = mlp.predict(X_test)\n",
    "\n",
    "# --- Evaluate the Neural Network Model ---\n",
    "accuracy_mlp = accuracy_score(y_test, y_pred_mlp)\n",
    "print(f\"Neural Network Accuracy: {accuracy_mlp}\")\n",
    "print(\"\\nClassification Report (Neural Network):\\n\", classification_report(y_test, y_pred_mlp))\n"
   ]
  },
  {
   "cell_type": "code",
   "execution_count": null,
   "id": "976cc77a-9105-4ac0-82b6-1f92d2dafa15",
   "metadata": {},
   "outputs": [],
   "source": []
  },
  {
   "cell_type": "code",
   "execution_count": null,
   "id": "4ac1a11a-17b5-4d35-9681-7174be58ef07",
   "metadata": {},
   "outputs": [],
   "source": []
  }
 ],
 "metadata": {
  "kernelspec": {
   "display_name": "Python 3 (ipykernel)",
   "language": "python",
   "name": "python3"
  },
  "language_info": {
   "codemirror_mode": {
    "name": "ipython",
    "version": 3
   },
   "file_extension": ".py",
   "mimetype": "text/x-python",
   "name": "python",
   "nbconvert_exporter": "python",
   "pygments_lexer": "ipython3",
   "version": "3.12.4"
  }
 },
 "nbformat": 4,
 "nbformat_minor": 5
}
